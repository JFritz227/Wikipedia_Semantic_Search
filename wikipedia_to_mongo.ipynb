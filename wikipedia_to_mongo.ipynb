{
 "cells": [
  {
   "cell_type": "markdown",
   "metadata": {},
   "source": [
    "# Start MongoDB Server"
   ]
  },
  {
   "cell_type": "code",
   "execution_count": 4,
   "metadata": {},
   "outputs": [
    {
     "name": "stdout",
     "output_type": "stream",
     "text": [
      "\n",
      "\n",
      "# All requested packages already installed.\n",
      "# packages in environment at /opt/conda:\n",
      "#\n",
      "pymongo                   3.4.0                    py36_0    defaults\n"
     ]
    }
   ],
   "source": [
    "!conda install --yes --quiet pymongo"
   ]
  },
  {
   "cell_type": "code",
   "execution_count": 5,
   "metadata": {},
   "outputs": [],
   "source": [
    "import pymongo\n",
    "import re\n",
    "import requests\n",
    "import pandas as pd\n",
    "import numpy as np\n",
    "from string import punctuation\n",
    "\n",
    "client = pymongo.MongoClient('54.200.30.7', 27016)"
   ]
  },
  {
   "cell_type": "markdown",
   "metadata": {},
   "source": [
    "# Wikipedia General Functions"
   ]
  },
  {
   "cell_type": "code",
   "execution_count": 391,
   "metadata": {},
   "outputs": [],
   "source": [
    "class functions():\n",
    "    \n",
    "    def clean_text(self, string):\n",
    "        string = functions().delete_periods(string)\n",
    "        new_string = string.replace(' ', '_')\n",
    "        new_string = new_string.lower()\n",
    "        return new_string\n",
    "    \n",
    "    def pageids(self, category):\n",
    "        category = category.replace(' ', '+')\n",
    "        category = category.lower()\n",
    "        r = requests.get('http://en.wikipedia.org/w/api.php?action=query&format=json&list=categorymembers&cmtitle=Category%3A+' + category + '&cmlimit=max')\n",
    "        pageids = pd.DataFrame(r.json()['query']['categorymembers'])['pageid']\n",
    "        return pageids\n",
    "\n",
    "    def find_title(self, page_number):\n",
    "        query = 'http://en.wikipedia.org/w/api.php?action=query&prop=extracts&\\\n",
    "             rvprop=content&rvsection=0&format=json&pageids={}'.format(page_number)\n",
    "        my_request = requests.get(query).json()\n",
    "        return my_request['query']['pages'][str(page_number)]['title']\n",
    "\n",
    "    def strip_punctuation(self, s):\n",
    "        return ''.join(c for c in s if c not in punctuation or c is '.')\n",
    "    \n",
    "    def delete_periods(self, s):\n",
    "        return ''.join(c for c in s if c not in punctuation)\n",
    "\n",
    "    def striphtml(self, data):\n",
    "        p = re.compile(r'<.*?>')\n",
    "        return p.sub('', data)\n",
    "\n",
    "    def get_page_contents(self, pageid, category):\n",
    "        query = 'http://en.wikipedia.org/w/api.php?action=query&prop=extracts&\\\n",
    "             rvprop=content&rvsection=0&format=json&pageids={}'.format(pageid)\n",
    "        my_request = requests.get(query).json()\n",
    "        title = self.striphtml(my_request['query']['pages'][str(pageid)]['title']) \n",
    "        no_html_string = self.striphtml(my_request['query']['pages'][str(pageid)]['extract']).replace('\\n', ' ')\n",
    "        return {'title':title, 'raw page text':self.strip_punctuation(no_html_string), 'category':category}\n",
    "    "
   ]
  },
  {
   "cell_type": "code",
   "execution_count": 377,
   "metadata": {},
   "outputs": [],
   "source": [
    "class mongodb():\n",
    "    wiki_db = []\n",
    "    database_name_ = ''\n",
    "    \n",
    "    def __init__(self, database_name):\n",
    "        function_init = functions()\n",
    "        self.database_name_ = function_init.clean_text(database_name)\n",
    "        \n",
    "    def collections(self):\n",
    "        return client[self.database_name_].collection_names()\n",
    "        \n",
    "    def add_database(self):\n",
    "        self.wiki_db = client[self.database_name_]\n",
    "        \n",
    "    def drop_database(self):\n",
    "        client.drop_database(self.database_name_)\n",
    "    \n",
    "    def add_first_layer(self, database_name):\n",
    "        function_init = functions()\n",
    "        database_edited = function_init.clean_text(database_name)\n",
    "        wiki_level_0 = self.wiki_db[database_edited]\n",
    "        wiki_level_1 = self.wiki_db.subcategories\n",
    "        these_pageids = function_init.pageids(self.database_name_)\n",
    "        for pages in these_pageids:\n",
    "            if 'Category:' not in function_init.find_title(pages):\n",
    "                wiki_level_0.insert_one(function_init.get_page_contents(pages, self.database_name_))\n",
    "            if 'Category:' in function_init.find_title(pages) :\n",
    "                subcategory = function_init.find_title(pages)\n",
    "                subcategory = subcategory.replace('Category:', database_name + ' -> ')\n",
    "                wiki_level_1.insert_one(function_init.get_page_contents(pages, subcategory))\n",
    "                \n",
    "    def add_second_layer(self, database_name, subcategory_name):\n",
    "        function_init = functions()\n",
    "        database_edited = function_init.clean_text(database_name)\n",
    "        subcat_edited = function_init.clean_text(subcategory_name)\n",
    "        wiki_level_0 = self.wiki_db[database_edited][subcat_edited]\n",
    "        wiki_level_1 = self.wiki_db[database_edited][subcat_edited].subcategories\n",
    "        these_pageids = functions().pageids(subcategory_name)\n",
    "        for pages in these_pageids:\n",
    "            if 'Category:' not in functions().find_title(pages):\n",
    "                wiki_level_0.insert_one(functions().get_page_contents(pages, \n",
    "                                                                      database_name + ' -> ' + subcategory_name))\n",
    "            if 'Category:' in functions().find_title(pages): \n",
    "                subcategory = functions().find_title(pages)\n",
    "                subcategory = subcategory.replace('Category:', \n",
    "                                                  database_name + ' -> ' + subcategory_name + ' -> ')\n",
    "                wiki_level_1.insert_one(functions().get_page_contents(pages, subcategory))\n",
    "                \n",
    "    def add_third_layer(self, database_name, subcategory_name_0, subcategory_name_1):\n",
    "        function_init = functions()\n",
    "        subcategory_edited_0 = function_init.clean_text(subcategory_name_0)\n",
    "        subcategory_edited_1 = function_init.clean_text(subcategory_name_1)\n",
    "        database_edited = function_init.clean_text(database_name)\n",
    "        wiki_level_0 = self.wiki_db[database_edited][database_edited][subcategory_edited_0][subcategory_edited_1]\n",
    "        wiki_level_1 = self.wiki_db[database_edited][database_edited][subcategory_edited_0][subcategory_edited_1].subcategories\n",
    "        these_pageids = function_init.pageids(subcategory_name_1)\n",
    "        for pages in these_pageids:\n",
    "            if 'Category:' not in function_init.find_title(pages):\n",
    "                wiki_level_0.insert_one(function_init.get_page_contents(pages,\n",
    "                                                                        database_name + ' -> ' + subcategory_name_0 +\n",
    "                                                                       ' -> ' + subcategory_name_1))\n",
    "            if 'Category:' in function_init.find_title(pages) :\n",
    "                subcategory = function_init.find_title(pages)\n",
    "                subcategory = subcategory.replace('Category:', database_name + ' -> ' + subcategory_name_0 + ' -> '\n",
    "                                                 + subcategory_name_1 + ' -> ')\n",
    "                wiki_level_1.insert_one(function_init.get_page_contents(pages, subcategory))\n",
    "                \n",
    "    def add_fourth_layer(self, database_name, subcategory_name_0, subcategory_name_1, subcategory_name_2):\n",
    "        function_init = functions()\n",
    "        subcategory_edited_0 = function_init.clean_text(subcategory_name_0)\n",
    "        subcategory_edited_1 = function_init.clean_text(subcategory_name_1)\n",
    "        subcategory_edited_2 = function_init.clean_text(subcategory_name_2)\n",
    "        database_edited = function_init.clean_text(database_name)\n",
    "        wiki_level_0 = self.wiki_db[database_edited][database_edited][subcategory_edited_0][subcategory_edited_1][subcategory_edited_2]\n",
    "        wiki_level_1 = self.wiki_db[database_edited][database_edited][subcategory_edited_0][subcategory_edited_1][subcategory_edited_2].subcategories\n",
    "        these_pageids = function_init.pageids(subcategory_name_2)\n",
    "        for pages in these_pageids:\n",
    "            if 'Category:' not in function_init.find_title(pages):\n",
    "                wiki_level_0.insert_one(function_init.get_page_contents(pages,\n",
    "                                                                        database_name + ' -> ' + subcategory_name_0 +\n",
    "                                                                       ' -> ' + subcategory_name_1 + ' -> ' \n",
    "                                                                        + subcategory_name_2))\n",
    "            if 'Category:' in function_init.find_title(pages) :\n",
    "                subcategory = function_init.find_title(pages)\n",
    "                subcategory = subcategory.replace('Category:', database_name + ' -> ' + subcategory_name_0 + ' -> '\n",
    "                                                 + subcategory_name_1 + ' -> ' + subcategory_name_2 + ' -> ')\n",
    "                wiki_level_1.insert_one(function_init.get_page_contents(pages, subcategory))"
   ]
  },
  {
   "cell_type": "code",
   "execution_count": 378,
   "metadata": {},
   "outputs": [],
   "source": [
    "def add_new(database_name):\n",
    "    database_edited = functions().clean_text(database_name)\n",
    "    database = mongodb(database_name)\n",
    "    database.drop_database()\n",
    "    database.add_database()\n",
    "    database.add_first_layer(database_name)\n",
    "    for articles in list(client[database_edited].subcategories.find()):\n",
    "        category = articles['title'].replace('Category:', '')\n",
    "        category_edited = functions().clean_text(category)\n",
    "        database.add_second_layer(database_name, category)\n",
    "        for categories in list(client[database_edited][database_edited][category_edited].subcategories.find()):\n",
    "            new_subcat = categories['title'].replace('Category:', '')\n",
    "            new_subcat_edited = functions().clean_text(new_subcat)\n",
    "            database.add_third_layer(database_name, category, new_subcat)\n",
    "            for subcategories in list(client[database_edited][database_edited][category_edited][new_subcat_edited].subcategories.find()):\n",
    "                final_subcat = subcategories['title'].replace('Category:', '')\n",
    "                database.add_fourth_layer(database_name, category, new_subcat, final_subcat)"
   ]
  },
  {
   "cell_type": "code",
   "execution_count": 379,
   "metadata": {},
   "outputs": [],
   "source": [
    "add_new('Lunch')"
   ]
  },
  {
   "cell_type": "code",
   "execution_count": 380,
   "metadata": {},
   "outputs": [
    {
     "data": {
      "text/plain": [
       "['lunch.lunch.lunch_dishes.sandwiches',\n",
       " 'lunch.lunch_dishes',\n",
       " 'lunch.lunch.lunch_dishes.sandwiches.subcategories',\n",
       " 'lunch.lunch_dishes.subcategories',\n",
       " 'subcategories',\n",
       " 'lunch',\n",
       " 'lunch.lunch_counters']"
      ]
     },
     "execution_count": 380,
     "metadata": {},
     "output_type": "execute_result"
    }
   ],
   "source": [
    "client.lunch.collection_names()"
   ]
  },
  {
   "cell_type": "code",
   "execution_count": 384,
   "metadata": {},
   "outputs": [
    {
     "data": {
      "text/plain": [
       "[{'_id': ObjectId('5a20998b6409d6001fd9f609'),\n",
       "  'category': 'Lunch -> Lunch dishes -> Sandwiches -> American sandwiches',\n",
       "  'raw page text': '',\n",
       "  'title': 'Category:American sandwiches'},\n",
       " {'_id': ObjectId('5a20998c6409d6001fd9f60a'),\n",
       "  'category': 'Lunch -> Lunch dishes -> Sandwiches -> Bacon sandwiches',\n",
       "  'raw page text': '',\n",
       "  'title': 'Category:Bacon sandwiches'},\n",
       " {'_id': ObjectId('5a20998e6409d6001fd9f60b'),\n",
       "  'category': 'Lunch -> Lunch dishes -> Sandwiches -> Breakfast sandwiches',\n",
       "  'raw page text': '',\n",
       "  'title': 'Category:Breakfast sandwiches'},\n",
       " {'_id': ObjectId('5a20998f6409d6001fd9f60c'),\n",
       "  'category': 'Lunch -> Lunch dishes -> Sandwiches -> British sandwiches',\n",
       "  'raw page text': '',\n",
       "  'title': 'Category:British sandwiches'},\n",
       " {'_id': ObjectId('5a2099916409d6001fd9f60d'),\n",
       "  'category': 'Lunch -> Lunch dishes -> Sandwiches -> Chilean sandwiches',\n",
       "  'raw page text': '',\n",
       "  'title': 'Category:Chilean sandwiches'},\n",
       " {'_id': ObjectId('5a2099926409d6001fd9f60e'),\n",
       "  'category': 'Lunch -> Lunch dishes -> Sandwiches -> French sandwiches',\n",
       "  'raw page text': '',\n",
       "  'title': 'Category:French sandwiches'},\n",
       " {'_id': ObjectId('5a2099946409d6001fd9f60f'),\n",
       "  'category': 'Lunch -> Lunch dishes -> Sandwiches -> Hamburgers (food)',\n",
       "  'raw page text': '',\n",
       "  'title': 'Category:Hamburgers (food)'},\n",
       " {'_id': ObjectId('5a2099956409d6001fd9f610'),\n",
       "  'category': 'Lunch -> Lunch dishes -> Sandwiches -> Hot dogs',\n",
       "  'raw page text': '',\n",
       "  'title': 'Category:Hot dogs'},\n",
       " {'_id': ObjectId('5a2099976409d6001fd9f611'),\n",
       "  'category': 'Lunch -> Lunch dishes -> Sandwiches -> Italian sandwiches',\n",
       "  'raw page text': '',\n",
       "  'title': 'Category:Italian sandwiches'},\n",
       " {'_id': ObjectId('5a2099986409d6001fd9f612'),\n",
       "  'category': 'Lunch -> Lunch dishes -> Sandwiches -> Pakistani sandwiches',\n",
       "  'raw page text': '',\n",
       "  'title': 'Category:Pakistani sandwiches'},\n",
       " {'_id': ObjectId('5a2099996409d6001fd9f613'),\n",
       "  'category': 'Lunch -> Lunch dishes -> Sandwiches -> Sandwich restaurants',\n",
       "  'raw page text': '',\n",
       "  'title': 'Category:Sandwich restaurants'}]"
      ]
     },
     "execution_count": 384,
     "metadata": {},
     "output_type": "execute_result"
    }
   ],
   "source": [
    "list(client.lunch.lunch.lunch.lunch_dishes.sandwiches.subcategories.find())"
   ]
  },
  {
   "cell_type": "code",
   "execution_count": 392,
   "metadata": {},
   "outputs": [
    {
     "data": {
      "text/plain": [
       "'mule'"
      ]
     },
     "execution_count": 392,
     "metadata": {},
     "output_type": "execute_result"
    }
   ],
   "source": [
    "mule = functions().clean_text('m.u.l.e.')\n",
    "mule"
   ]
  },
  {
   "cell_type": "code",
   "execution_count": null,
   "metadata": {},
   "outputs": [],
   "source": []
  }
 ],
 "metadata": {
  "kernelspec": {
   "display_name": "Python 3",
   "language": "python",
   "name": "python3"
  },
  "language_info": {
   "codemirror_mode": {
    "name": "ipython",
    "version": 3
   },
   "file_extension": ".py",
   "mimetype": "text/x-python",
   "name": "python",
   "nbconvert_exporter": "python",
   "pygments_lexer": "ipython3",
   "version": "3.6.2"
  }
 },
 "nbformat": 4,
 "nbformat_minor": 2
}
